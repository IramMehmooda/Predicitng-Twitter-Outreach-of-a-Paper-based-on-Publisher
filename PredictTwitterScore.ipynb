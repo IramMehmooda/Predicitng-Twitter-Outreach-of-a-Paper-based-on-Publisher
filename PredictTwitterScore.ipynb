{
 "cells": [
  {
   "cell_type": "code",
   "execution_count": 3,
   "metadata": {},
   "outputs": [],
   "source": [
    "import pandas as pd\n",
    "import numpy as np\n",
    "\n",
    "\n",
    "# Load data\n",
    "alt_data = pd.read_csv('bigdatatest.csv')"
   ]
  },
  {
   "cell_type": "code",
   "execution_count": 4,
   "metadata": {},
   "outputs": [],
   "source": [
    "import sklearn\n",
    "from sklearn.preprocessing import scale\n",
    "from sklearn.preprocessing import Imputer\n",
    "from sklearn.pipeline import Pipeline\n",
    "#from sklearn.svm import SVC\n",
    "from sklearn.ensemble import RandomForestRegressor\n",
    "from sklearn.ensemble import RandomForestClassifier\n",
    "from sklearn.metrics import mean_absolute_error\n",
    "from sklearn.model_selection import train_test_split\n",
    "from sklearn.metrics import classification_report\n",
    "from sklearn.tree import DecisionTreeClassifier\n",
    "from sklearn.naive_bayes import BernoulliNB\n",
    "from sklearn.linear_model import LogisticRegression\n",
    "from sklearn.svm import SVC\n",
    "from sklearn.neighbors import KNeighborsClassifier"
   ]
  },
  {
   "cell_type": "code",
   "execution_count": 7,
   "metadata": {
    "scrolled": true
   },
   "outputs": [],
   "source": [
    "df = pd.DataFrame(data=alt_data)\n"
   ]
  },
  {
   "cell_type": "code",
   "execution_count": 8,
   "metadata": {},
   "outputs": [],
   "source": [
    "df=df.drop(['altmetric_id'], axis=1)\n",
    "df=df.drop(['pub_year','followers','posts_count','unique_users_count','socialmedia_posts_counts'], axis=1)\n",
    "#data_trained.columns=['Rank','H index,Total Docs. (2017)','Total Docs. (3years),Total Refs.','Total Cites (3years)','Cites / Doc. (2years)','Ref. / Doc.',\n",
    "df = df.dropna(axis=0,thresh =8)                  "
   ]
  },
  {
   "cell_type": "code",
   "execution_count": 9,
   "metadata": {},
   "outputs": [],
   "source": [
    "from sklearn import preprocessing\n",
    "from sklearn.preprocessing import KBinsDiscretizer\n",
    "target=pd.DataFrame(data=df['altmetric_score'])\n",
    "est = preprocessing.KBinsDiscretizer(n_bins=[4], encode='ordinal').fit(target)\n",
    "new_target=pd.DataFrame(data=est.transform(target))\n",
    "new_target.columns=['altmetric_score']\n",
    "#range_alt"
   ]
  },
  {
   "cell_type": "code",
   "execution_count": 10,
   "metadata": {},
   "outputs": [],
   "source": [
    "data=df.drop(['altmetric_score'], axis=1)\n",
    "target=new_target['altmetric_score']\n",
    "X_train, X_test, y_train, y_test = train_test_split(data, target, test_size=0.3, random_state=42)"
   ]
  },
  {
   "cell_type": "code",
   "execution_count": 11,
   "metadata": {
    "scrolled": true
   },
   "outputs": [
    {
     "name": "stderr",
     "output_type": "stream",
     "text": [
      "C:\\Users\\Owner\\Anaconda3\\lib\\site-packages\\sklearn\\utils\\deprecation.py:58: DeprecationWarning: Class Imputer is deprecated; Imputer was deprecated in version 0.20 and will be removed in 0.22. Import impute.SimpleImputer from sklearn instead.\n",
      "  warnings.warn(msg, category=DeprecationWarning)\n",
      "C:\\Users\\Owner\\Anaconda3\\lib\\site-packages\\sklearn\\ensemble\\forest.py:248: FutureWarning: The default value of n_estimators will change from 10 in version 0.20 to 100 in 0.22.\n",
      "  \"10 in version 0.20 to 100 in 0.22.\", FutureWarning)\n"
     ]
    },
    {
     "name": "stdout",
     "output_type": "stream",
     "text": [
      "Mean Absolute Error from Imputation:\n",
      "0.7035763214026852\n"
     ]
    }
   ],
   "source": [
    "def score_dataset(X_train, X_test, y_train, y_test):\n",
    "    model = RandomForestRegressor()\n",
    "    model.fit(X_train, y_train)\n",
    "    preds = model.predict(X_test)\n",
    "    return mean_absolute_error(y_test, preds)\n",
    "my_imputer = Imputer()\n",
    "data_trained = my_imputer.fit_transform(X_train)\n",
    "data_tested = my_imputer.transform(X_test)\n",
    "print(\"Mean Absolute Error from Imputation:\")\n",
    "print(score_dataset(data_trained, data_tested, y_train, y_test))"
   ]
  },
  {
   "cell_type": "code",
   "execution_count": 12,
   "metadata": {},
   "outputs": [],
   "source": [
    "min_max_scaler = preprocessing.MinMaxScaler()\n",
    "data_trained = min_max_scaler.fit_transform(data_trained)\n",
    "data_tested=min_max_scaler.transform(data_tested)\n"
   ]
  },
  {
   "cell_type": "code",
   "execution_count": 13,
   "metadata": {},
   "outputs": [],
   "source": [
    "#removing twitter columns from dataset\n",
    "data_trained=pd.DataFrame(data=data_trained)\n",
    "data_tested=pd.DataFrame(data=data_tested)\n"
   ]
  },
  {
   "cell_type": "code",
   "execution_count": 14,
   "metadata": {},
   "outputs": [
    {
     "name": "stdout",
     "output_type": "stream",
     "text": [
      "              precision    recall  f1-score   support\n",
      "\n",
      "         0.0       0.52      0.44      0.48     25068\n",
      "         1.0       0.48      0.49      0.49     46647\n",
      "         2.0       0.42      0.45      0.44     54033\n",
      "         3.0       0.54      0.52      0.53     41849\n",
      "\n",
      "   micro avg       0.48      0.48      0.48    167597\n",
      "   macro avg       0.49      0.48      0.48    167597\n",
      "weighted avg       0.48      0.48      0.48    167597\n",
      "\n"
     ]
    },
    {
     "data": {
      "text/plain": [
       "0.47949545636258406"
      ]
     },
     "execution_count": 14,
     "metadata": {},
     "output_type": "execute_result"
    }
   ],
   "source": [
    "#Decision Tree Classifier\n",
    "decision = DecisionTreeClassifier(criterion = 'entropy', random_state = 0)\n",
    "decision.fit(data_trained,y_train)\n",
    "decisionresult = decision.predict(data_tested)\n",
    "print(classification_report(y_test,decisionresult))\n",
    "sklearn.metrics.accuracy_score(y_test, decisionresult)"
   ]
  },
  {
   "cell_type": "code",
   "execution_count": 15,
   "metadata": {},
   "outputs": [
    {
     "name": "stdout",
     "output_type": "stream",
     "text": [
      "              precision    recall  f1-score   support\n",
      "\n",
      "         0.0       0.00      0.00      0.00     25068\n",
      "         1.0       0.38      0.02      0.03     46647\n",
      "         2.0       0.32      0.99      0.49     54033\n",
      "         3.0       0.60      0.00      0.00     41849\n",
      "\n",
      "   micro avg       0.32      0.32      0.32    167597\n",
      "   macro avg       0.33      0.25      0.13    167597\n",
      "weighted avg       0.36      0.32      0.17    167597\n",
      "\n"
     ]
    },
    {
     "name": "stderr",
     "output_type": "stream",
     "text": [
      "C:\\Users\\Owner\\Anaconda3\\lib\\site-packages\\sklearn\\metrics\\classification.py:1143: UndefinedMetricWarning: Precision and F-score are ill-defined and being set to 0.0 in labels with no predicted samples.\n",
      "  'precision', 'predicted', average, warn_for)\n"
     ]
    },
    {
     "data": {
      "text/plain": [
       "0.32329934306700003"
      ]
     },
     "execution_count": 15,
     "metadata": {},
     "output_type": "execute_result"
    }
   ],
   "source": [
    "#Bernoulli Naive Bayes Classifier\n",
    "nbayes = BernoulliNB()\n",
    "nbayes.fit(data_trained,y_train.values.ravel())\n",
    "nbayesresult = nbayes.predict(data_tested)\n",
    "print(classification_report(y_test,nbayesresult))\n",
    "sklearn.metrics.accuracy_score(y_test, nbayesresult)"
   ]
  },
  {
   "cell_type": "code",
   "execution_count": 17,
   "metadata": {},
   "outputs": [
    {
     "name": "stdout",
     "output_type": "stream",
     "text": [
      "              precision    recall  f1-score   support\n",
      "\n",
      "         0.0       0.53      0.42      0.47     25068\n",
      "         1.0       0.48      0.48      0.48     46647\n",
      "         2.0       0.42      0.46      0.44     54033\n",
      "         3.0       0.53      0.53      0.53     41849\n",
      "\n",
      "   micro avg       0.48      0.48      0.48    167597\n",
      "   macro avg       0.49      0.47      0.48    167597\n",
      "weighted avg       0.48      0.48      0.48    167597\n",
      "\n"
     ]
    },
    {
     "data": {
      "text/plain": [
       "0.47840951807013254"
      ]
     },
     "execution_count": 17,
     "metadata": {},
     "output_type": "execute_result"
    }
   ],
   "source": [
    "#Random Forest Classifier\n",
    "random = RandomForestClassifier(n_estimators = 10, criterion = 'entropy', random_state = 0)\n",
    "random.fit(data_trained,y_train.values.ravel())\n",
    "randomresult = random.predict(data_tested)\n",
    "print(classification_report(y_test,randomresult))\n",
    "sklearn.metrics.accuracy_score(y_test, randomresult)"
   ]
  },
  {
   "cell_type": "code",
   "execution_count": 103,
   "metadata": {},
   "outputs": [
    {
     "name": "stdout",
     "output_type": "stream",
     "text": [
      "              precision    recall  f1-score   support\n",
      "\n",
      "         1.0       0.47      0.99      0.64        91\n",
      "         2.0       0.00      0.00      0.00        67\n",
      "         3.0       0.75      0.14      0.24        43\n",
      "\n",
      "   micro avg       0.48      0.48      0.48       201\n",
      "   macro avg       0.41      0.38      0.29       201\n",
      "weighted avg       0.37      0.48      0.34       201\n",
      "\n"
     ]
    },
    {
     "name": "stderr",
     "output_type": "stream",
     "text": [
      "C:\\Users\\iramm\\Anaconda3\\lib\\site-packages\\sklearn\\linear_model\\logistic.py:432: FutureWarning: Default solver will be changed to 'lbfgs' in 0.22. Specify a solver to silence this warning.\n",
      "  FutureWarning)\n",
      "C:\\Users\\iramm\\Anaconda3\\lib\\site-packages\\sklearn\\linear_model\\logistic.py:459: FutureWarning: Default multi_class will be changed to 'auto' in 0.22. Specify the multi_class option to silence this warning.\n",
      "  \"this warning.\", FutureWarning)\n"
     ]
    },
    {
     "data": {
      "text/plain": [
       "0.47761194029850745"
      ]
     },
     "execution_count": 103,
     "metadata": {},
     "output_type": "execute_result"
    }
   ],
   "source": [
    "#logistic regression\n",
    "lr = LogisticRegression(random_state = 0)\n",
    "lr.fit(data_trained, y_train.values.ravel())\n",
    "regres = lr.predict(data_tested)\n",
    "print(classification_report(y_test,regres))\n",
    "sklearn.metrics.accuracy_score(y_test, regres)"
   ]
  },
  {
   "cell_type": "code",
   "execution_count": 106,
   "metadata": {},
   "outputs": [
    {
     "name": "stdout",
     "output_type": "stream",
     "text": [
      "              precision    recall  f1-score   support\n",
      "\n",
      "         1.0       0.46      1.00      0.63        91\n",
      "         2.0       0.00      0.00      0.00        67\n",
      "         3.0       0.50      0.02      0.04        43\n",
      "\n",
      "   micro avg       0.46      0.46      0.46       201\n",
      "   macro avg       0.32      0.34      0.22       201\n",
      "weighted avg       0.31      0.46      0.29       201\n",
      "\n"
     ]
    },
    {
     "name": "stderr",
     "output_type": "stream",
     "text": [
      "C:\\Users\\iramm\\Anaconda3\\lib\\site-packages\\sklearn\\metrics\\classification.py:1143: UndefinedMetricWarning: Precision and F-score are ill-defined and being set to 0.0 in labels with no predicted samples.\n",
      "  'precision', 'predicted', average, warn_for)\n"
     ]
    },
    {
     "data": {
      "text/plain": [
       "0.4577114427860697"
      ]
     },
     "execution_count": 106,
     "metadata": {},
     "output_type": "execute_result"
    }
   ],
   "source": [
    "svm = SVC(kernel = 'linear', random_state = 0)\n",
    "svm.fit(data_trained, y_train.values.ravel())\n",
    "svmres = svm.predict(data_tested)\n",
    "print(classification_report(y_test,svmres))\n",
    "sklearn.metrics.accuracy_score(y_test, svmres)"
   ]
  },
  {
   "cell_type": "code",
   "execution_count": 18,
   "metadata": {},
   "outputs": [
    {
     "name": "stdout",
     "output_type": "stream",
     "text": [
      "              precision    recall  f1-score   support\n",
      "\n",
      "         0.0       0.43      0.44      0.43     25068\n",
      "         1.0       0.42      0.48      0.44     46647\n",
      "         2.0       0.40      0.40      0.40     54033\n",
      "         3.0       0.53      0.42      0.47     41849\n",
      "\n",
      "   micro avg       0.43      0.43      0.43    167597\n",
      "   macro avg       0.44      0.43      0.44    167597\n",
      "weighted avg       0.44      0.43      0.43    167597\n",
      "\n"
     ]
    },
    {
     "data": {
      "text/plain": [
       "0.43329534538207726"
      ]
     },
     "execution_count": 18,
     "metadata": {},
     "output_type": "execute_result"
    }
   ],
   "source": [
    "knn = KNeighborsClassifier(n_neighbors = 5, metric = 'minkowski', p = 2)\n",
    "knn.fit(data_trained, y_train.values.ravel())\n",
    "knnres = knn.predict(data_tested)\n",
    "print(classification_report(y_test,knnres))\n",
    "sklearn.metrics.accuracy_score(y_test, knnres)"
   ]
  },
  {
   "cell_type": "code",
   "execution_count": null,
   "metadata": {},
   "outputs": [],
   "source": []
  }
 ],
 "metadata": {
  "kernelspec": {
   "display_name": "Python 3",
   "language": "python",
   "name": "python3"
  },
  "language_info": {
   "codemirror_mode": {
    "name": "ipython",
    "version": 3
   },
   "file_extension": ".py",
   "mimetype": "text/x-python",
   "name": "python",
   "nbconvert_exporter": "python",
   "pygments_lexer": "ipython3",
   "version": "3.6.5"
  }
 },
 "nbformat": 4,
 "nbformat_minor": 2
}
