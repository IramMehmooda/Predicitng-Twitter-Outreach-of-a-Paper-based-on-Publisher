{
 "cells": [
  {
   "cell_type": "code",
   "execution_count": 1,
   "metadata": {},
   "outputs": [],
   "source": [
    "import pandas as pd\n",
    "import numpy as np\n",
    "\n",
    "\n",
    "# Load data\n",
    "alt_data = pd.read_csv('bigdatatest.csv')"
   ]
  },
  {
   "cell_type": "code",
   "execution_count": 2,
   "metadata": {},
   "outputs": [],
   "source": [
    "import sklearn\n",
    "from sklearn.preprocessing import scale\n",
    "from sklearn.preprocessing import Imputer\n",
    "from sklearn.pipeline import Pipeline\n",
    "#from sklearn.svm import SVC\n",
    "from sklearn.ensemble import RandomForestRegressor\n",
    "from sklearn.ensemble import RandomForestClassifier\n",
    "from sklearn.metrics import mean_absolute_error\n",
    "from sklearn.model_selection import train_test_split\n",
    "from sklearn.metrics import classification_report\n",
    "from sklearn.tree import DecisionTreeClassifier\n",
    "from sklearn.naive_bayes import BernoulliNB\n",
    "from sklearn.linear_model import LogisticRegression\n",
    "from sklearn.svm import SVC\n",
    "from sklearn.neighbors import KNeighborsClassifier"
   ]
  },
  {
   "cell_type": "code",
   "execution_count": 8,
   "metadata": {
    "scrolled": true
   },
   "outputs": [],
   "source": [
    "df = pd.DataFrame(data=alt_data)\n",
    "df = df.dropna(axis=0,thresh =8)"
   ]
  },
  {
   "cell_type": "code",
   "execution_count": 9,
   "metadata": {},
   "outputs": [],
   "source": [
    "df=df.drop(['altmetric_id'], axis=1)\n",
    "df=df.drop(['pub_year'], axis=1)"
   ]
  },
  {
   "cell_type": "code",
   "execution_count": 10,
   "metadata": {},
   "outputs": [],
   "source": [
    "from sklearn import preprocessing\n",
    "from sklearn.preprocessing import KBinsDiscretizer\n",
    "target=pd.DataFrame(data=df['altmetric_score'])\n",
    "est = preprocessing.KBinsDiscretizer(n_bins=[4], encode='ordinal').fit(target)\n",
    "new_target=pd.DataFrame(data=est.transform(target))\n",
    "new_target.columns=['altmetric_score']\n",
    "#range_alt"
   ]
  },
  {
   "cell_type": "code",
   "execution_count": 11,
   "metadata": {},
   "outputs": [],
   "source": [
    "data=df.drop(['altmetric_score'], axis=1)\n",
    "target=new_target['altmetric_score']\n",
    "X_train, X_test, y_train, y_test = train_test_split(data, target, test_size=0.3, random_state=42)"
   ]
  },
  {
   "cell_type": "code",
   "execution_count": 12,
   "metadata": {
    "scrolled": true
   },
   "outputs": [
    {
     "name": "stderr",
     "output_type": "stream",
     "text": [
      "C:\\Users\\Owner\\Anaconda3\\lib\\site-packages\\sklearn\\utils\\deprecation.py:58: DeprecationWarning: Class Imputer is deprecated; Imputer was deprecated in version 0.20 and will be removed in 0.22. Import impute.SimpleImputer from sklearn instead.\n",
      "  warnings.warn(msg, category=DeprecationWarning)\n",
      "C:\\Users\\Owner\\Anaconda3\\lib\\site-packages\\sklearn\\ensemble\\forest.py:248: FutureWarning: The default value of n_estimators will change from 10 in version 0.20 to 100 in 0.22.\n",
      "  \"10 in version 0.20 to 100 in 0.22.\", FutureWarning)\n"
     ]
    },
    {
     "name": "stdout",
     "output_type": "stream",
     "text": [
      "Mean Absolute Error from Imputation:\n",
      "0.2205292935183037\n"
     ]
    }
   ],
   "source": [
    "def score_dataset(X_train, X_test, y_train, y_test):\n",
    "    model = RandomForestRegressor()\n",
    "    model.fit(X_train, y_train)\n",
    "    preds = model.predict(X_test)\n",
    "    return mean_absolute_error(y_test, preds)\n",
    "my_imputer = Imputer()\n",
    "data_trained = my_imputer.fit_transform(X_train)\n",
    "data_tested = my_imputer.transform(X_test)\n",
    "print(\"Mean Absolute Error from Imputation:\")\n",
    "print(score_dataset(data_trained, data_tested, y_train, y_test))"
   ]
  },
  {
   "cell_type": "code",
   "execution_count": 13,
   "metadata": {},
   "outputs": [],
   "source": [
    "min_max_scaler = preprocessing.MinMaxScaler()\n",
    "data_trained = min_max_scaler.fit_transform(data_trained)\n",
    "data_tested=min_max_scaler.transform(data_tested)\n"
   ]
  },
  {
   "cell_type": "code",
   "execution_count": 64,
   "metadata": {},
   "outputs": [
    {
     "name": "stdout",
     "output_type": "stream",
     "text": [
      "              precision    recall  f1-score   support\n",
      "\n",
      "         1.0       0.80      0.90      0.85        91\n",
      "         2.0       0.77      0.66      0.71        67\n",
      "         3.0       0.81      0.79      0.80        43\n",
      "\n",
      "   micro avg       0.80      0.80      0.80       201\n",
      "   macro avg       0.80      0.78      0.79       201\n",
      "weighted avg       0.79      0.80      0.79       201\n",
      "\n"
     ]
    },
    {
     "data": {
      "text/plain": [
       "0.7960199004975125"
      ]
     },
     "execution_count": 64,
     "metadata": {},
     "output_type": "execute_result"
    }
   ],
   "source": [
    "#Decision Tree Classifier\n",
    "decision = DecisionTreeClassifier(criterion = 'entropy', random_state = 0)\n",
    "decision.fit(data_trained,y_train)\n",
    "decisionresult = decision.predict(data_tested)\n",
    "print(classification_report(y_test,decisionresult))\n",
    "sklearn.metrics.accuracy_score(y_test, decisionresult)"
   ]
  },
  {
   "cell_type": "code",
   "execution_count": 14,
   "metadata": {},
   "outputs": [
    {
     "name": "stdout",
     "output_type": "stream",
     "text": [
      "              precision    recall  f1-score   support\n",
      "\n",
      "         0.0       1.00      1.00      1.00     24852\n",
      "         1.0       0.73      0.66      0.69     46720\n",
      "         2.0       0.47      0.79      0.59     53926\n",
      "         3.0       0.37      0.10      0.15     42101\n",
      "\n",
      "   micro avg       0.61      0.61      0.61    167599\n",
      "   macro avg       0.64      0.64      0.61    167599\n",
      "weighted avg       0.60      0.61      0.57    167599\n",
      "\n"
     ]
    },
    {
     "data": {
      "text/plain": [
       "0.6088699813244709"
      ]
     },
     "execution_count": 14,
     "metadata": {},
     "output_type": "execute_result"
    }
   ],
   "source": [
    "#Bernoulli Naive Bayes Classifier\n",
    "nbayes = BernoulliNB()\n",
    "nbayes.fit(data_trained,y_train.values.ravel())\n",
    "nbayesresult = nbayes.predict(data_tested)\n",
    "print(classification_report(y_test,nbayesresult))\n",
    "sklearn.metrics.accuracy_score(y_test, nbayesresult)"
   ]
  },
  {
   "cell_type": "code",
   "execution_count": 15,
   "metadata": {},
   "outputs": [
    {
     "name": "stdout",
     "output_type": "stream",
     "text": [
      "              precision    recall  f1-score   support\n",
      "\n",
      "         0.0       1.00      1.00      1.00     24852\n",
      "         1.0       0.77      0.82      0.80     46720\n",
      "         2.0       0.75      0.74      0.75     53926\n",
      "         3.0       0.86      0.81      0.83     42101\n",
      "\n",
      "   micro avg       0.82      0.82      0.82    167599\n",
      "   macro avg       0.85      0.84      0.84    167599\n",
      "weighted avg       0.82      0.82      0.82    167599\n",
      "\n"
     ]
    },
    {
     "data": {
      "text/plain": [
       "0.8194440300956449"
      ]
     },
     "execution_count": 15,
     "metadata": {},
     "output_type": "execute_result"
    }
   ],
   "source": [
    "#Random Forest Classifier\n",
    "random = RandomForestClassifier(n_estimators = 10, criterion = 'entropy', random_state = 0)\n",
    "random.fit(data_trained,y_train.values.ravel())\n",
    "randomresult = random.predict(data_tested)\n",
    "print(classification_report(y_test,randomresult))\n",
    "sklearn.metrics.accuracy_score(y_test, randomresult)"
   ]
  },
  {
   "cell_type": "code",
   "execution_count": 16,
   "metadata": {},
   "outputs": [
    {
     "name": "stderr",
     "output_type": "stream",
     "text": [
      "C:\\Users\\Owner\\Anaconda3\\lib\\site-packages\\sklearn\\linear_model\\logistic.py:432: FutureWarning: Default solver will be changed to 'lbfgs' in 0.22. Specify a solver to silence this warning.\n",
      "  FutureWarning)\n",
      "C:\\Users\\Owner\\Anaconda3\\lib\\site-packages\\sklearn\\linear_model\\logistic.py:459: FutureWarning: Default multi_class will be changed to 'auto' in 0.22. Specify the multi_class option to silence this warning.\n",
      "  \"this warning.\", FutureWarning)\n"
     ]
    },
    {
     "name": "stdout",
     "output_type": "stream",
     "text": [
      "              precision    recall  f1-score   support\n",
      "\n",
      "         0.0       0.73      0.04      0.08     24852\n",
      "         1.0       0.35      0.14      0.20     46720\n",
      "         2.0       0.35      0.81      0.49     53926\n",
      "         3.0       0.69      0.39      0.50     42101\n",
      "\n",
      "   micro avg       0.40      0.40      0.40    167599\n",
      "   macro avg       0.53      0.34      0.32    167599\n",
      "weighted avg       0.49      0.40      0.35    167599\n",
      "\n"
     ]
    },
    {
     "data": {
      "text/plain": [
       "0.4023592026205407"
      ]
     },
     "execution_count": 16,
     "metadata": {},
     "output_type": "execute_result"
    }
   ],
   "source": [
    "#logistic regression\n",
    "lr = LogisticRegression(random_state = 0)\n",
    "lr.fit(data_trained, y_train.values.ravel())\n",
    "regres = lr.predict(data_tested)\n",
    "print(classification_report(y_test,regres))\n",
    "sklearn.metrics.accuracy_score(y_test, regres)"
   ]
  },
  {
   "cell_type": "code",
   "execution_count": 17,
   "metadata": {},
   "outputs": [
    {
     "name": "stdout",
     "output_type": "stream",
     "text": [
      "              precision    recall  f1-score   support\n",
      "\n",
      "         0.0       0.75      0.03      0.06     24852\n",
      "         1.0       0.32      0.02      0.03     46720\n",
      "         2.0       0.34      0.95      0.50     53926\n",
      "         3.0       0.77      0.21      0.33     42101\n",
      "\n",
      "   micro avg       0.37      0.37      0.37    167599\n",
      "   macro avg       0.55      0.30      0.23    167599\n",
      "weighted avg       0.50      0.37      0.26    167599\n",
      "\n"
     ]
    }
   ],
   "source": [
    "svm = SVC(kernel = 'linear', random_state = 0)\n",
    "svm.fit(data_trained, y_train.values.ravel())\n",
    "svmres = svm.predict(data_tested)\n",
    "print(classification_report(y_test,svmres))"
   ]
  },
  {
   "cell_type": "code",
   "execution_count": 75,
   "metadata": {},
   "outputs": [
    {
     "name": "stdout",
     "output_type": "stream",
     "text": [
      "              precision    recall  f1-score   support\n",
      "\n",
      "         1.0       0.75      0.80      0.78        91\n",
      "         2.0       0.63      0.70      0.66        67\n",
      "         3.0       0.72      0.49      0.58        43\n",
      "\n",
      "   micro avg       0.70      0.70      0.70       201\n",
      "   macro avg       0.70      0.66      0.67       201\n",
      "weighted avg       0.70      0.70      0.70       201\n",
      "\n"
     ]
    }
   ],
   "source": [
    "knn = KNeighborsClassifier(n_neighbors = 5, metric = 'minkowski', p = 2)\n",
    "knn.fit(data_trained, y_train.values.ravel())\n",
    "knnres = knn.predict(data_tested)\n",
    "print(classification_report(y_test,knnres))"
   ]
  },
  {
   "cell_type": "code",
   "execution_count": null,
   "metadata": {},
   "outputs": [],
   "source": []
  }
 ],
 "metadata": {
  "kernelspec": {
   "display_name": "Python 3",
   "language": "python",
   "name": "python3"
  },
  "language_info": {
   "codemirror_mode": {
    "name": "ipython",
    "version": 3
   },
   "file_extension": ".py",
   "mimetype": "text/x-python",
   "name": "python",
   "nbconvert_exporter": "python",
   "pygments_lexer": "ipython3",
   "version": "3.6.5"
  }
 },
 "nbformat": 4,
 "nbformat_minor": 2
}
