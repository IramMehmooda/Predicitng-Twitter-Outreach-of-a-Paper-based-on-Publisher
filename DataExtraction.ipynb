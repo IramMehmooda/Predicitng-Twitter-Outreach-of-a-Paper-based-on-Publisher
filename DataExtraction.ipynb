{
 "cells": [
  {
   "cell_type": "code",
   "execution_count": 181,
   "metadata": {},
   "outputs": [],
   "source": [
    "import pandas as pd\n",
    "import matplotlib.pyplot as plt\n",
    "import seaborn as sns"
   ]
  },
  {
   "cell_type": "code",
   "execution_count": 182,
   "metadata": {},
   "outputs": [
    {
     "name": "stderr",
     "output_type": "stream",
     "text": [
      "C:\\Users\\Owner\\Anaconda3\\lib\\site-packages\\IPython\\core\\interactiveshell.py:2785: DtypeWarning: Columns (8,9,10,11,12,13,14) have mixed types. Specify dtype option on import or set low_memory=False.\n",
      "  interactivity=interactivity, compiler=compiler, result=result)\n"
     ]
    }
   ],
   "source": [
    "import os\n",
    "import json\n",
    "import csv\n",
    "df= pd.read_csv(\"publisher.csv\",usecols=[0,2,3,4,7,8,9,10,11,12,13,14,15,16])"
   ]
  },
  {
   "cell_type": "code",
   "execution_count": 192,
   "metadata": {
    "scrolled": false
   },
   "outputs": [
    {
     "ename": "OSError",
     "evalue": "[Errno 28] No space left on device",
     "output_type": "error",
     "traceback": [
      "\u001b[1;31m---------------------------------------------------------------------------\u001b[0m",
      "\u001b[1;31mOSError\u001b[0m                                   Traceback (most recent call last)",
      "\u001b[1;32m<ipython-input-192-e8243b42f989>\u001b[0m in \u001b[0;36m<module>\u001b[1;34m()\u001b[0m\n\u001b[0;32m     93\u001b[0m                             \u001b[0mrow_array\u001b[0m\u001b[1;33m.\u001b[0m\u001b[0mappend\u001b[0m\u001b[1;33m(\u001b[0m\u001b[0msocialmedia_posts_counts\u001b[0m\u001b[1;33m)\u001b[0m\u001b[1;33m\u001b[0m\u001b[0m\n\u001b[0;32m     94\u001b[0m                             \u001b[1;31m#print(row_array)\u001b[0m\u001b[1;33m\u001b[0m\u001b[1;33m\u001b[0m\u001b[0m\n\u001b[1;32m---> 95\u001b[1;33m                             \u001b[0moutputWriter\u001b[0m\u001b[1;33m.\u001b[0m\u001b[0mwriterow\u001b[0m\u001b[1;33m(\u001b[0m\u001b[0mrow_array\u001b[0m\u001b[1;33m)\u001b[0m\u001b[1;33m\u001b[0m\u001b[0m\n\u001b[0m\u001b[0;32m     96\u001b[0m \u001b[1;33m\u001b[0m\u001b[0m\n\u001b[0;32m     97\u001b[0m \u001b[1;33m\u001b[0m\u001b[0m\n",
      "\u001b[1;31mOSError\u001b[0m: [Errno 28] No space left on device"
     ]
    }
   ],
   "source": [
    "for dirpath, dirnames, files in os.walk(r'C:\\Users\\Owner\\Documents\\Big Data\\keys'): #load the package\n",
    "    #print(\"Analyzing directory {}/{}: {}\".format(dirpath,dirnames,files))\n",
    "    outfile=open(\"bigdatatest.csv\",\"a\",newline='', encoding='utf-8') #write the cleaned data into bigdatatest\n",
    "    outputWriter=csv.writer(outfile)\n",
    "    \n",
    "    for name in files:\n",
    "         #in extention i put '.txt', to filter all the txt file. the dataset is all in txt so you can skip this\n",
    "            file = os.path.join(dirpath, name)\n",
    "            \n",
    "            with open(file,'r') as f:\n",
    "                for line in f:\n",
    "                    row_array = []\n",
    "                    data= json.loads(line)\n",
    "                    pubyear = int(data[\"citation\"].get(\"pubdate\",\"0\")[:4])\n",
    "                    if pubyear in [2015,2016,2017,2018]:\n",
    "                        issns = \"NaN\"\n",
    "                        #print(data[\"citation\"].get(\"issns\",0))\n",
    "                        \n",
    "                        row_array.append(data[\"altmetric_id\"])\n",
    "                        #row_array.append(data[\"altmetric_id\"])\n",
    "                        posts_count='NaN'\n",
    "                        unique_users_count = 'NaN'\n",
    "                        pub_rank=\"NaN\"\n",
    "                        pub_hindex=\"NaN\"\n",
    "                        pub_total_cites_3y=\"NaN\"\n",
    "                        pub_total_docs_3y=\"NaN\"\n",
    "                        pub_total_docs=\"NaN\"\n",
    "                        pub_total_ref=\"NaN\"\n",
    "                        pub_total_citesperdoc=\"NaN\"\n",
    "                        pub_total_refperdoc=\"NaN\"\n",
    "                        \n",
    "                        \n",
    "\n",
    "                        if data.get('counts'):\n",
    "                            temp_index=-1;\n",
    "                            if data[\"citation\"].get(\"issns\"):                         \n",
    "                                    for value in data[\"citation\"][\"issns\"]:\n",
    "                                        \n",
    "                                        issns_num = \"\"\n",
    "                                        flag=0\n",
    "                                        \n",
    "                                        if flag==0:\n",
    "\n",
    "                                            for temp in value.split('-'):\n",
    "                                                issns_num +=temp\n",
    "                                            for index,val in enumerate(df['Issn']):\n",
    "                                                if(val.find(issns_num)>-1):\n",
    "                                                    flag=1\n",
    "                                                    temp_index=index\n",
    "                                        \n",
    "                                        \n",
    "                                                    \n",
    "                            if temp_index==-1:\n",
    "                                row_array.append(\"NaN\")\n",
    "                                row_array.append(\"NaN\")\n",
    "                                row_array.append(\"NaN\")\n",
    "                                row_array.append(\"NaN\")\n",
    "                                row_array.append(\"NaN\")\n",
    "                                row_array.append(\"NaN\")\n",
    "                                row_array.append(\"NaN\")\n",
    "                                row_array.append(\"NaN\")\n",
    "                            else:\n",
    "                                \n",
    "                                row_array.append(df['Rank'][temp_index])\n",
    "                                row_array.append(df['H index'][temp_index])\n",
    "                                row_array.append(df['Total Docs. (2017)'][temp_index])\n",
    "                                row_array.append(df['Total Docs. (3years)'][temp_index])\n",
    "                                row_array.append(df['Total Refs.'][temp_index])\n",
    "                                row_array.append(df['Total Cites (3years)'][temp_index])\n",
    "                                row_array.append(df['Cites / Doc. (2years)'][temp_index])\n",
    "                                row_array.append(df['Ref. / Doc.'][temp_index])\n",
    "                            row_array.append(pubyear)\n",
    "                          #  row_array.append(data[\"citation\"].get(\"publisher\",\"0000\"))\n",
    "                            \n",
    "                            row_array.append(data[\"altmetric_score\"].get(\"score\",0))\n",
    "                            if data['counts'].get('total'):\n",
    "                                socialmedia_posts_counts = data[\"counts\"][\"total\"][\"posts_count\"]\n",
    "                            if data['counts'].get('readers'):\n",
    "                                mendley_readers= data['counts']['readers']['mendeley']\n",
    "                            followers = 0\n",
    "                            if(data[\"counts\"].get(\"twitter\")):\n",
    "                                posts_count = data[\"counts\"][\"twitter\"][\"posts_count\"]\n",
    "                                unique_users_count = data[\"counts\"][\"twitter\"][\"unique_users_count\"]\n",
    "                                for i in range(len(data[\"posts\"][\"twitter\"])):\n",
    "                                    followers +=data[\"posts\"][\"twitter\"][i][\"author\"].get(\"followers\",0)\n",
    "\n",
    "\n",
    "                               # for twitterPost in data[\"posts\"][\"twitter\"]:\n",
    "                                #    print(data[\"posts\"][\"twitter\"][twitterPost])\n",
    "                            row_array.append(followers)    \n",
    "                            row_array.append(posts_count)\n",
    "                            row_array.append(unique_users_count)\n",
    "                            row_array.append(socialmedia_posts_counts)\n",
    "                            #print(row_array)\n",
    "                            outputWriter.writerow(row_array)\n",
    "                    \n",
    "                    \n",
    "                   \n",
    "                    \n",
    "                    \n",
    "                    \n",
    "                    \n",
    "                   # print(row_array)\n",
    "                    \n",
    "                   # for counts in data[\"counts\"]:\n",
    "                        \n",
    "                       # print(counts[\"mendeley\"])\n",
    "                    \n",
    "                       # print(data[\"counts\"][counts])\n",
    "                        \n",
    "                       # i=i+1\n",
    "                        #print(i, \" \" ,  row_array)\n",
    "                       # outputWriter.writerow(row_array)\n",
    "                    \n",
    "    \n",
    "    outfile.close()\n",
    "                    \n",
    "                    #here you have all the content of a single altmetric in json information\n",
    "                    #then it depends what you want to do with it\n"
   ]
  },
  {
   "cell_type": "code",
   "execution_count": 177,
   "metadata": {},
   "outputs": [],
   "source": [
    "def search(issns_num):\n",
    "    print(row_array)\n",
    "    \n"
   ]
  },
  {
   "cell_type": "code",
   "execution_count": 122,
   "metadata": {},
   "outputs": [],
   "source": [
    "outfile.close()"
   ]
  },
  {
   "cell_type": "code",
   "execution_count": null,
   "metadata": {},
   "outputs": [],
   "source": []
  }
 ],
 "metadata": {
  "kernelspec": {
   "display_name": "Python 3",
   "language": "python",
   "name": "python3"
  },
  "language_info": {
   "codemirror_mode": {
    "name": "ipython",
    "version": 3
   },
   "file_extension": ".py",
   "mimetype": "text/x-python",
   "name": "python",
   "nbconvert_exporter": "python",
   "pygments_lexer": "ipython3",
   "version": "3.6.5"
  }
 },
 "nbformat": 4,
 "nbformat_minor": 2
}
